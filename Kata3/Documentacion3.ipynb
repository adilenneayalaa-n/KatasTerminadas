{
 "cells": [
  {
   "cell_type": "markdown",
   "metadata": {},
   "source": [
    "# Lógica Booleana\n",
    "\n",
    "* Ejecutar código en una variedad de condiciones mediante sentencias `if`, `else`, y `elif`\n",
    "* Combinar la lógica condicional y crear condiciones más complejas mediante el uso de operadores `and` y operadores `or`.\n",
    "#### La logica condicional y Logica de operadores matematicos\n",
    "* Por lo regular nuestras condiciones `if`, `else`, y `elif` van de la mano con los operadores logicos.\n",
    "+ Definamos que significado tienen nestros condicionales\n",
    "1. `if` si y solo si.\n",
    "2. `else` siempre que usamos un else va ir acompañado primero de `if` -> `else` es decir __`Si no es esto`, entonces es `esto otro.`__\n",
    "3. `elif` Es para cuando tenemos multiples condicionales.\n",
    "#### Operadores logicos pueden ser los siguientes\n",
    "- Iguales: a == b\n",
    "- No es igual: a != b\n",
    "- Menos que: a < b\n",
    "- Menor o igual que: a <= b\n",
    "- Mayor que: a > b\n",
    "- Mayor o igual que: a >= \n"
   ]
  },
  {
   "cell_type": "markdown",
   "metadata": {},
   "source": [
    "## Escribir declaraciones if\n",
    "* Utiliza una instrucción if si deseas ejecutar código sólo si se cumple una determinada condición."
   ]
  },
  {
   "cell_type": "markdown",
   "metadata": {},
   "source": [
    "#### Expresiones de prueba\n",
    "* Debes usar una instrucción `if` para ejecutar código solo si se cumple una determinada condición. \n",
    "<br>Evalúa si es True (Verdadero) o False (Falso) . Si es True (Verdadero), se ejecuta el siguiente bloque de código "
   ]
  },
  {
   "cell_type": "code",
   "execution_count": 11,
   "metadata": {},
   "outputs": [],
   "source": [
    "# Tip de práctica 1: Intenta ejecutarlo en un notebook.\n",
    "a = 97\n",
    "b = 55\n",
    "# Expresion \"if\" que va validar de ser correcto entra a la siguiente instrucción\n",
    "if a < b:  \n",
    "    print(b)    "
   ]
  },
  {
   "cell_type": "markdown",
   "metadata": {},
   "source": [
    "\n",
    "* Como podemos ver no imprime nada aun que nosotros le demos la instrucción de imprimir.\n",
    "1. A la letra 'a' le asigno el valor de 97.\n",
    "2. A la letra 'b' le asigno el valor de 55.\n",
    "3. Comparamos que 'a'(97) sea menor a b(55) entonces:\n",
    "4. Imprime 'b' lo cual es falso, PERO no se ejcutara ya que:\n",
    "* 97 es menor a 55, La respuesta es `Falso` por lo tanto nunca se ejecutara el codigo, que esta dentro del `if`"
   ]
  },
  {
   "cell_type": "code",
   "execution_count": 12,
   "metadata": {},
   "outputs": [
    {
     "name": "stdout",
     "output_type": "stream",
     "text": [
      "93\n"
     ]
    }
   ],
   "source": [
    "# Aplica el tip de práctica 1.\n",
    "a = 93\n",
    "b = 27\n",
    "if a >= b:\n",
    "    print(a)"
   ]
  },
  {
   "cell_type": "markdown",
   "metadata": {},
   "source": [
    "\n",
    "* En este ejemplo si imprimió sigamos los pasos.\n",
    "1. A la letra 'a' le asigno el valor de 93.\n",
    "2. A la letra 'b' le asigno el valor de 27.\n",
    "3. Comparamos que 'a'(93) sea mayor o igual a b(27) entonces:\n",
    "4. Imprime 'a' lo cual es Verdadero!\n",
    "* 93 es mayor a 27, La respuesta es `True`(Verdadero) por lo tanto se ejecutará el codigo, que esta dentro del `if`"
   ]
  },
  {
   "cell_type": "markdown",
   "metadata": {},
   "source": [
    "#### __Puntos importantes a tomar en cuenta en Python los `if` deben llevar sangria__"
   ]
  },
  {
   "cell_type": "code",
   "execution_count": 13,
   "metadata": {},
   "outputs": [
    {
     "name": "stdout",
     "output_type": "stream",
     "text": [
      "44\n"
     ]
    }
   ],
   "source": [
    "a = 24\n",
    "b = 44\n",
    "if a <= 0:\n",
    "    print(a)\n",
    "\n",
    "print(b) #A"
   ]
  },
  {
   "cell_type": "markdown",
   "metadata": {},
   "source": [
    "* En este ejemplo si imprimió sigamos los paso.\n",
    "<br> En este ejemplo, el 44 como resultado se debe a que la expresión de prueba es False y la instrucción print(b) no tiene sangría en el mismo nivel que la instrucción if.\n",
    "* Podriamos decir que print(b) es independiente al no tener sangria, no depende del if y es una instrucción a parte."
   ]
  },
  {
   "cell_type": "markdown",
   "metadata": {},
   "source": [
    "#### Trabajando con else\n",
    "* Siempre que trabajamos con la expresión if evluara si es True(Verdadero) el else nos ayudará cuando la expresión de la prueba sea falsa"
   ]
  },
  {
   "cell_type": "code",
   "execution_count": 14,
   "metadata": {},
   "outputs": [
    {
     "name": "stdout",
     "output_type": "stream",
     "text": [
      "27\n"
     ]
    }
   ],
   "source": [
    "a = 93\n",
    "b = 27\n",
    "if a <= b:\n",
    "    print(a)\n",
    "else:\n",
    "    print(b)"
   ]
  },
  {
   "cell_type": "markdown",
   "metadata": {},
   "source": [
    "* En este ejemplo podemos ver como imprimirá 27 pero ¿Por qué? esto se debe a que la expresion if no se ha cumplido por lo tanto <br>\n",
    "Ejecuta lo que tengas en `else`<br>\n",
    "if expresion_prueba:\n",
    "\n",
    "> if expresion_prueba:\n",
    "* instrucción(es) a ejecutar\n",
    "> else:\n",
    "* instrucción(es) a ejecutar"
   ]
  },
  {
   "cell_type": "markdown",
   "metadata": {},
   "source": [
    "#### Trabajando con elif\n",
    "* Siempre que trabajamos con esta expresión hacemos referencia que estamos haciendo 2 validaciones independientes.\n",
    "* Por lo que el programa ingresará una instrucción elif solo si la primera instrucción if es False.\n",
    "* Estas instrucciones se ejecutan en el orden en que están escritas.\n",
    "\n",
    "\n",
    "> if expresion_prueba:\n",
    "* instrucción(es) a ejecutar\n",
    "> elif: expresion_prueba:\n",
    "* instrucción(es) a ejecutar"
   ]
  },
  {
   "cell_type": "code",
   "execution_count": 17,
   "metadata": {},
   "outputs": [
    {
     "name": "stdout",
     "output_type": "stream",
     "text": [
      "a es mayor o igual que b\n"
     ]
    }
   ],
   "source": [
    "a = 93\n",
    "b = 27\n",
    "if a >= b:\n",
    "    print(\"a es mayor o igual que b\")\n",
    "elif a == b:\n",
    "    print(\"a es igual que b\")"
   ]
  },
  {
   "cell_type": "markdown",
   "metadata": {},
   "source": [
    "En este caso la unica condicional que se cumple es el primer `if` y no el `else if`(elif) si se cumple el primer if ya no entrará al elif"
   ]
  },
  {
   "cell_type": "markdown",
   "metadata": {},
   "source": [
    "#### Trabajando con if, elif y else\n",
    "* Puedes combinar sentencias `if` , `elif`, y `else` para crear programas con lógica condicional compleja. Recuerda que una instrucción `elif` sólo se ejecuta cuando la condición `if` es False. También ten en cuenta que un bloque if puede tener solo un bloque else, pero puede tener varios bloques elif.\n",
    "\n",
    "\n",
    "> if expresion_prueba:\n",
    "* instrucción(es) a ejecutar\n",
    "> elif: expresion_prueba:\n",
    "* instrucción(es) a ejecutar\n",
    "> else:\n",
    "* instrucción(es) a ejecutar\n"
   ]
  },
  {
   "cell_type": "code",
   "execution_count": 20,
   "metadata": {},
   "outputs": [
    {
     "name": "stdout",
     "output_type": "stream",
     "text": [
      "a es igual que b\n"
     ]
    }
   ],
   "source": [
    "a = 93\n",
    "b = 27\n",
    "if a > b:\n",
    "    print(\"a es mayor que b\")\n",
    "elif a < b:\n",
    "    print(\"a es menor que b\")\n",
    "else: \n",
    "    print (\"a es igual que b\")"
   ]
  },
  {
   "cell_type": "markdown",
   "metadata": {},
   "source": [
    "* Como podemos ver se ejecuta nuestro programa:\n",
    "1. Si se cumple la primer condición `if` terminará el programa\n",
    "2. De no cumplirse se ejecuta el siguiente `else if`.\n",
    "3. De no cumplirse ni uno ni otro ejecutará el `else`"
   ]
  },
  {
   "cell_type": "markdown",
   "metadata": {},
   "source": [
    "#### Trabajar con lógica condicional anidada\n",
    "* La logica condicional anidada significa que puedes anidar sentencias `if` , `elif`, y `else` para crear programas aún más complejos.\n",
    "\n",
    "\n",
    "\n",
    "> if expresion_prueba:\n",
    "- instrucción(es) a ejecutar\n",
    "    - if expresion_prueba:\n",
    "        - instrucción(es) a ejecutar\n",
    "    - else:\n",
    "        - instrucción(es) a ejecutar\n",
    "> elif expresion_prueba:\n",
    "- instrucción(es) a ejecutar\n",
    "    - if expresion_prueba:\n",
    "        - instrucción(es) a ejecutar\n",
    "    - else:\n",
    "        - instrucción(es) a ejecutar\n",
    "> else:\n",
    "- instrucción(es) a ejecutar"
   ]
  },
  {
   "cell_type": "code",
   "execution_count": 23,
   "metadata": {},
   "outputs": [
    {
     "name": "stdout",
     "output_type": "stream",
     "text": [
      "a es menor que b\n"
     ]
    }
   ],
   "source": [
    "a = 16\n",
    "b = 25\n",
    "c = 27\n",
    "if a > b:\n",
    "    if b > c:\n",
    "        print (\"a es mayor que b y b es mayor que c\")\n",
    "    else: \n",
    "        print (\"a es mayor que b y menor que c\")\n",
    "elif a == b:\n",
    "    print (\"a es igual que b\")\n",
    "else:\n",
    "    print (\"a es menor que b\")"
   ]
  },
  {
   "cell_type": "markdown",
   "metadata": {},
   "source": [
    "#### Trabajar con `and` y `or`\n",
    "* Sirve para combinar expresiones de prueba para evaluar varias condiciones `if` , `elif`, y `else` en una instrucción.\n",
    "\n",
    "#### Operador `or`\n",
    "* En el siguiente codigo evaluaremos si una condición y despues del `or` otra evaluacion es decir, Haz lo que este dentro de if si se cumple una condicion u otra."
   ]
  },
  {
   "cell_type": "code",
   "execution_count": 24,
   "metadata": {},
   "outputs": [
    {
     "name": "stdout",
     "output_type": "stream",
     "text": [
      "57\n"
     ]
    }
   ],
   "source": [
    "a = 23\n",
    "b = 34\n",
    "if a == 34 or b == 34:\n",
    "    print(a + b)"
   ]
  },
  {
   "cell_type": "markdown",
   "metadata": {},
   "source": [
    "#### Operador `and`\n",
    "* El operador and se comporta diferente, este nos dice que se tienen que cumplir todas las condiciones que usemos.\n",
    "* En el siguiente ejemplo tenemos 2 condicionales las cuales deberan ser cumplidas para que se ejcute lo que tengamos dentro de nuestra condición.\n"
   ]
  },
  {
   "cell_type": "code",
   "execution_count": 25,
   "metadata": {},
   "outputs": [],
   "source": [
    "a = 23\n",
    "b = 34\n",
    "if a == 34 and b == 34:\n",
    "    print (a + b)\n"
   ]
  },
  {
   "cell_type": "markdown",
   "metadata": {},
   "source": [
    "Cómo podemos ver no se cumple por lo tanto no imprimirá nada."
   ]
  },
  {
   "cell_type": "markdown",
   "metadata": {},
   "source": [
    "#### La diferencia de trabajar con `and` y `or`\n",
    "* Para resaltar la diferencia entre los dos operadores booleanos, puedes utilizar una tabla de verdad. <br> Una tabla de verdad muestra a qué se evalúa toda la expresión de prueba en función de las dos subexpresiones."
   ]
  },
  {
   "cell_type": "markdown",
   "metadata": {},
   "source": [
    "`SubExpresion1`,  `Operador`, `SubExpresion2`, `Resultado` \n",
    "***\n",
    "True `and` True `= True` \n",
    "***\n",
    "True `and` False `= False` \n",
    "***\n",
    "False `and` True `= False` \n",
    "***\n",
    "False `and` False `= True` \n",
    "***"
   ]
  },
  {
   "cell_type": "markdown",
   "metadata": {},
   "source": [
    "`SubExpresion1`,  `Operador`, `SubExpresion2`, `Resultado` \n",
    "***\n",
    "True `or` True `= True` \n",
    "***\n",
    "True `or` False `= True` \n",
    "***\n",
    "False `or` True `= True` \n",
    "***\n",
    "False `or`False `= False` \n",
    "***"
   ]
  },
  {
   "cell_type": "markdown",
   "metadata": {},
   "source": []
  }
 ],
 "metadata": {
  "interpreter": {
   "hash": "74e8df19fc855fa47d1feac3bcdbe3d2e2bdf358a027a824d460a6254fb178f4"
  },
  "kernelspec": {
   "display_name": "Python 3.9.10 64-bit",
   "language": "python",
   "name": "python3"
  },
  "language_info": {
   "codemirror_mode": {
    "name": "ipython",
    "version": 3
   },
   "file_extension": ".py",
   "mimetype": "text/x-python",
   "name": "python",
   "nbconvert_exporter": "python",
   "pygments_lexer": "ipython3",
   "version": "3.9.10"
  },
  "orig_nbformat": 4
 },
 "nbformat": 4,
 "nbformat_minor": 2
}
