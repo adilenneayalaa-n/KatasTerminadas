{
 "cells": [
  {
   "cell_type": "code",
   "execution_count": 3,
   "metadata": {},
   "outputs": [
    {
     "name": "stdout",
     "output_type": "stream",
     "text": [
      "Veamos si el asteroide se acerca rapido a la tierra\n",
      "Cuidado el asteroide esta viajando demasiado rapido a la tierra.\n"
     ]
    }
   ],
   "source": [
    "print(\"Veamos si el asteroide se acerca rapido a la tierra\")\n",
    "velocidadAsteroide = input(\"¿A que velocidad va el asteroide?\")\n",
    "\n",
    "if int(velocidadAsteroide) > 25:\n",
    "    print(\"Cuidado el asteroide esta viajando demasiado rapido a la tierra.\")\n",
    "else:\n",
    "    print(\"No hay necesidad de crear un alerta, el asteroide no viaja rapido.\")\n"
   ]
  },
  {
   "cell_type": "code",
   "execution_count": 6,
   "metadata": {},
   "outputs": [
    {
     "name": "stdout",
     "output_type": "stream",
     "text": [
      "Veamos si el asteroide se acerca rapido a la tierra\n",
      "Asteroide no detectado\n"
     ]
    }
   ],
   "source": [
    "print(\"Veamos si el asteroide se acerca rapido a la tierra\")\n",
    "velocidadAsteroide = input(\"¿A que velocidad va el asteroide?\")\n",
    "\n",
    "if int(velocidadAsteroide) >= 20:\n",
    "    print(\"Vean el cielo se verá un rayo de luz\")\n",
    "elif int(velocidadAsteroide) == 19:\n",
    "    print(\"Vean el cielo se verá un rayo de luz.\")\n",
    "else:\n",
    "    print(\"Asteroide no detectado\")"
   ]
  },
  {
   "cell_type": "code",
   "execution_count": 11,
   "metadata": {},
   "outputs": [
    {
     "name": "stdout",
     "output_type": "stream",
     "text": [
      "Veamos si el asteroide se acerca rapido a la tierra\n",
      "Cuidado la altrura de ese Asteroide causara mucho daño\n",
      "Advertencia la velocidad es superior a 25, Asteroide en camino, veremos un rayo de luz\n"
     ]
    }
   ],
   "source": [
    "print(\"Veamos si el asteroide se acerca rapido a la tierra\")\n",
    "velocidadAsteroide = input(\"¿A que velocidad va el asteroide?\")\n",
    "alturaAsteroide = input(\"¿Cual es la altura del Asteroide?\")\n",
    "\n",
    "if int(alturaAsteroide) > 25 and int(alturaAsteroide)< 1000:\n",
    "    print(\"Cuidado la altrura de ese Asteroide causara mucho daño\")\n",
    "    if int(velocidadAsteroide) > 25 and int(velocidadAsteroide)>= 20:\n",
    "        print(\"Advertencia la velocidad es superior a 25, Asteroide en camino, veremos un rayo de luz\")\n",
    "elif int(alturaAsteroide) < 25 and int(velocidadAsteroide) < 20:\n",
    "        print(\"No se ha detectado ningun asteroide\")\n",
    "else:\n",
    "    print(\"No se ha detectado ningun asteroide\")"
   ]
  }
 ],
 "metadata": {
  "interpreter": {
   "hash": "74e8df19fc855fa47d1feac3bcdbe3d2e2bdf358a027a824d460a6254fb178f4"
  },
  "kernelspec": {
   "display_name": "Python 3.9.10 64-bit",
   "language": "python",
   "name": "python3"
  },
  "language_info": {
   "codemirror_mode": {
    "name": "ipython",
    "version": 3
   },
   "file_extension": ".py",
   "mimetype": "text/x-python",
   "name": "python",
   "nbconvert_exporter": "python",
   "pygments_lexer": "ipython3",
   "version": "3.9.10"
  },
  "orig_nbformat": 4
 },
 "nbformat": 4,
 "nbformat_minor": 2
}
