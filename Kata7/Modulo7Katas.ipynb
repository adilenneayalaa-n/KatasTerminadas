{
 "cells": [
  {
   "cell_type": "code",
   "execution_count": null,
   "metadata": {},
   "outputs": [],
   "source": [
    "#Crea 2 variables planetas de tipo lista y nuevoPlaneta\n",
    "planetas= []\n",
    "nuevoPlaneta=''"
   ]
  },
  {
   "cell_type": "code",
   "execution_count": 3,
   "metadata": {},
   "outputs": [],
   "source": [
    "#Crea 1 while para introducir planetas hasta que el usuario escriba la palabra \"done\"\n",
    "planetas= []\n",
    "nuevoPlaneta=''\n",
    "\n",
    "while nuevoPlaneta.lower() != 'done':\n",
    "    if nuevoPlaneta:\n",
    "        planetas.append(nuevoPlaneta)\n",
    "    \n",
    "    \n",
    "    \n",
    "\n",
    "    "
   ]
  },
  {
   "cell_type": "code",
   "execution_count": 49,
   "metadata": {},
   "outputs": [
    {
     "name": "stdout",
     "output_type": "stream",
     "text": [
      "Planeta agregado\n",
      "Planeta agregado\n"
     ]
    }
   ],
   "source": [
    "\n",
    "planetas= ['Mercurio', 'Jupiter','Saturno']\n",
    "nuevoPlaneta=''\n",
    "nuevoPlaneta = input('Dame el nombre del nuevo planeta que deaseas agregar o escribe \"done\" para finalizar.')\n",
    "while nuevoPlaneta.lower() != 'done':\n",
    "    if nuevoPlaneta not in planetas:\n",
    "        if nuevoPlaneta =='':\n",
    "            break\n",
    "        planetas.append(nuevoPlaneta)\n",
    "        print('Planeta agregado')\n",
    "        nuevoPlaneta = input('Dame el nombre del nuevo planeta que deaseas agregar o escribe \"done\" para finalizar.')\n",
    "    elif nuevoPlaneta in planetas:\n",
    "        print('Ese planeta ya existe')\n",
    "        nuevoPlaneta = input('Dame el nombre del nuevo planeta que deaseas agregar o escribe \"done\" para finalizar.')\n",
    "\n",
    "        \n",
    "      \n",
    "        \n",
    "\n",
    "\n",
    "    "
   ]
  },
  {
   "cell_type": "code",
   "execution_count": 50,
   "metadata": {},
   "outputs": [
    {
     "data": {
      "text/plain": [
       "'Tierra'"
      ]
     },
     "execution_count": 50,
     "metadata": {},
     "output_type": "execute_result"
    }
   ],
   "source": [
    "planetas.pop(-1)"
   ]
  },
  {
   "cell_type": "code",
   "execution_count": 51,
   "metadata": {},
   "outputs": [
    {
     "name": "stdout",
     "output_type": "stream",
     "text": [
      "Mercurio\n",
      "Jupiter\n",
      "Saturno\n",
      "Venus\n"
     ]
    }
   ],
   "source": [
    "# Crea 1 while para introducir planetas hasta que el usuario escriba la palabra \"done\"\n",
    "from time import sleep\n",
    "\n",
    "\n",
    "for cadaplaneta in planetas:\n",
    "    print((cadaplaneta))\n",
    "   \n"
   ]
  }
 ],
 "metadata": {
  "interpreter": {
   "hash": "74e8df19fc855fa47d1feac3bcdbe3d2e2bdf358a027a824d460a6254fb178f4"
  },
  "kernelspec": {
   "display_name": "Python 3.9.10 64-bit",
   "language": "python",
   "name": "python3"
  },
  "language_info": {
   "codemirror_mode": {
    "name": "ipython",
    "version": 3
   },
   "file_extension": ".py",
   "mimetype": "text/x-python",
   "name": "python",
   "nbconvert_exporter": "python",
   "pygments_lexer": "ipython3",
   "version": "3.9.10"
  },
  "orig_nbformat": 4
 },
 "nbformat": 4,
 "nbformat_minor": 2
}
