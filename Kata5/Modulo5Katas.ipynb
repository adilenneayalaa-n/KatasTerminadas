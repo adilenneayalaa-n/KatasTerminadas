{
 "cells": [
  {
   "cell_type": "code",
   "execution_count": 4,
   "metadata": {},
   "outputs": [
    {
     "name": "stdout",
     "output_type": "stream",
     "text": [
      "La distancia entre los planetas Jupiter y la tierrra es de: 628949330\n",
      "Y su distancia en millas es de: 390577533.93\n"
     ]
    }
   ],
   "source": [
    "distanciaTierra=149597870\n",
    "distanciaJupiter=778547200\n",
    "\n",
    "print(f\"\"\"La distancia entre los planetas Jupiter y la tierrra es de: {distanciaJupiter-distanciaTierra}\n",
    "Y su distancia en millas es de: {round((distanciaJupiter-distanciaTierra)*0.621,2)}\"\"\")"
   ]
  },
  {
   "cell_type": "code",
   "execution_count": 7,
   "metadata": {},
   "outputs": [
    {
     "name": "stdout",
     "output_type": "stream",
     "text": [
      "La distancia entre rl primer planeta y el segundo es de: 50300000\n",
      "y su distancia de Km a millas es de: 31236300.0\n"
     ]
    }
   ],
   "source": [
    "primerPlaneta = input(\"¿Cual es el nombre de tu primer planeta?\")\n",
    "segundoPlaneta = input(\"¿Cual es el nombre de tu segundo planeta?\")\n",
    "\n",
    "resultado = (int(primerPlaneta)) - int(segundoPlaneta)\n",
    "print(f\"\"\"La distancia entre rl primer planeta y el segundo es de: {abs(resultado)}\n",
    "y su distancia de Km a millas es de: {round(abs(resultado)*0.621,2)}\"\"\")"
   ]
  }
 ],
 "metadata": {
  "interpreter": {
   "hash": "74e8df19fc855fa47d1feac3bcdbe3d2e2bdf358a027a824d460a6254fb178f4"
  },
  "kernelspec": {
   "display_name": "Python 3.9.10 64-bit",
   "language": "python",
   "name": "python3"
  },
  "language_info": {
   "codemirror_mode": {
    "name": "ipython",
    "version": 3
   },
   "file_extension": ".py",
   "mimetype": "text/x-python",
   "name": "python",
   "nbconvert_exporter": "python",
   "pygments_lexer": "ipython3",
   "version": "3.9.10"
  },
  "orig_nbformat": 4
 },
 "nbformat": 4,
 "nbformat_minor": 2
}
