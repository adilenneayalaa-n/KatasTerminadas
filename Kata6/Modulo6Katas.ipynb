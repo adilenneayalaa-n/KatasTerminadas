{
 "cells": [
  {
   "cell_type": "code",
   "execution_count": 6,
   "metadata": {},
   "outputs": [
    {
     "name": "stdout",
     "output_type": "stream",
     "text": [
      "8\n"
     ]
    }
   ],
   "source": [
    "planetas=[\"Mercurio\",\"Venus\",\"Tierra\",\"Marte\",\"Jupiter\",\"Saturno\",\"Uranus\",\"Neptuno\"]\n",
    "print(len(planetas))"
   ]
  },
  {
   "cell_type": "code",
   "execution_count": 7,
   "metadata": {},
   "outputs": [
    {
     "name": "stdout",
     "output_type": "stream",
     "text": [
      "El ultimo planeta de la lista es: Pluto\n"
     ]
    }
   ],
   "source": [
    "planetas=[\"Mercurio\",\"Venus\",\"Tierra\",\"Marte\",\"Jupiter\",\"Saturno\",\"Uranus\",\"Neptuno\"]\n",
    "planetas.append('Pluto')\n",
    "\n",
    "print('El ultimo planeta agregado de la lista es: '+ planetas[-1])\n"
   ]
  },
  {
   "cell_type": "code",
   "execution_count": 11,
   "metadata": {},
   "outputs": [
    {
     "name": "stdout",
     "output_type": "stream",
     "text": [
      "0\n"
     ]
    }
   ],
   "source": [
    "planetas=[\"Mercurio\",\"Venus\",\"Tierra\",\"Marte\",\"Jupiter\",\"Saturno\",\"Uranus\",\"Neptuno\"]\n",
    "\n",
    "planetaSolicitado = input('Dame el nombre del planeta que desees agregar a la lista (Recuerda que el nombrem empieza con mayuscula) ')\n",
    "indexPlanetas = planetas.index(planetaSolicitado)\n",
    "print(indexPlanetas)"
   ]
  },
  {
   "cell_type": "code",
   "execution_count": 15,
   "metadata": {},
   "outputs": [
    {
     "name": "stdout",
     "output_type": "stream",
     "text": [
      "Los planetas mas cercanos al sol acorde al planeta elegido Jupiter son: []\n"
     ]
    }
   ],
   "source": [
    "planetas=[\"Mercurio\",\"Venus\",\"Tierra\",\"Marte\",\"Jupiter\",\"Saturno\",\"Uranus\",\"Neptuno\"]\n",
    "\n",
    "planetaSolicitado = input('Dame el nombre del planeta que desees buscar en la lista (Recuerda que el nombrem empieza con mayuscula) ')\n",
    "indexPlanetas = planetas.index(planetaSolicitado)\n",
    "print(f\"\"\"Los planetas mas cercanos al sol acorde al planeta elegido {(planetaSolicitado)} son: \"\"\"+str(planetas[indexPlanetas:]))"
   ]
  }
 ],
 "metadata": {
  "interpreter": {
   "hash": "74e8df19fc855fa47d1feac3bcdbe3d2e2bdf358a027a824d460a6254fb178f4"
  },
  "kernelspec": {
   "display_name": "Python 3.9.10 64-bit",
   "language": "python",
   "name": "python3"
  },
  "language_info": {
   "codemirror_mode": {
    "name": "ipython",
    "version": 3
   },
   "file_extension": ".py",
   "mimetype": "text/x-python",
   "name": "python",
   "nbconvert_exporter": "python",
   "pygments_lexer": "ipython3",
   "version": "3.9.10"
  },
  "orig_nbformat": 4
 },
 "nbformat": 4,
 "nbformat_minor": 2
}
