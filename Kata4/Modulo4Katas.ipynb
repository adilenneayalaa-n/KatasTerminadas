{
 "cells": [
  {
   "cell_type": "code",
   "execution_count": 8,
   "metadata": {},
   "outputs": [],
   "source": [
    "text = \"\"\"Interesting facts about the Moon. The Moon is Earth's only satellite. There are several interesting facts about the Moon and how it affects life here on Earth. On average, the Moon moves 4cm away from the Earth every year. This yearly drift is not significant enough to cause immediate effects on Earth. The highest daylight temperature of the Moon is 127 C.\"\"\""
   ]
  },
  {
   "cell_type": "code",
   "execution_count": 9,
   "metadata": {},
   "outputs": [
    {
     "name": "stdout",
     "output_type": "stream",
     "text": [
      "<class 'list'>\n"
     ]
    }
   ],
   "source": [
    "textParts = text.split(\".\")\n",
    "textParts\n",
    "print(type(textParts))"
   ]
  },
  {
   "cell_type": "code",
   "execution_count": 13,
   "metadata": {},
   "outputs": [
    {
     "name": "stdout",
     "output_type": "stream",
     "text": [
      " On average, the Moon moves 4cm away from the Earth every year\n",
      " The highest daylight temperature of the Moon is 127 C\n"
     ]
    }
   ],
   "source": [
    "words=[\"average\", \"temperature\", \"distance\"]\n",
    "for eachSentence in textParts: #Este loop recorré la lista creeada a partir de que se aplica un split()\n",
    "    for everyWord in words: #Este loop recorré palabra del arreglo \"words\"\n",
    "        if everyWord in eachSentence: #Si everyWord existe en cada sentencia\n",
    "            print(eachSentence)     #Imprime las oraciones dónde aparezca\n",
    "            break\n",
    "            \n",
    "            \n"
   ]
  },
  {
   "cell_type": "code",
   "execution_count": 14,
   "metadata": {},
   "outputs": [
    {
     "name": "stdout",
     "output_type": "stream",
     "text": [
      " On average, the Moon moves 4cm away from the Earth every year\n",
      " The highest daylight temperature of the Moon is 127 Celsius\n"
     ]
    }
   ],
   "source": [
    "words=[\"average\", \"temperature\", \"distance\"]\n",
    "for eachSentence in textParts: #Este loop recorré la lista creeada a partir de que se aplica un split()\n",
    "    for everyWord in words: #Este loop recorré palabra del arreglo \"words\"\n",
    "        if everyWord in eachSentence: #Si everyWord existe en cada sentencia\n",
    "            print(eachSentence.replace('C','Celsius'))     #Imprime las oraciones dónde aparezca\n",
    "            break"
   ]
  },
  {
   "cell_type": "code",
   "execution_count": 16,
   "metadata": {},
   "outputs": [
    {
     "name": "stdout",
     "output_type": "stream",
     "text": [
      " The highest daylight temperature of the Moon is 127 Celsius\n"
     ]
    }
   ],
   "source": [
    "for eachSentence in textParts:\n",
    "    if 'C' in eachSentence:\n",
    "        print(eachSentence.replace('C', 'Celsius'))\n",
    "        break"
   ]
  },
  {
   "cell_type": "code",
   "execution_count": 57,
   "metadata": {},
   "outputs": [],
   "source": [
    "# Datos con los que vas a trabajar\n",
    "name = \"Moon\"\n",
    "gravity = 0.00143 # in kms\n",
    "planet = \"Earth\"\n",
    "titulo = f'Datos de la gravedad en {planet}'\n",
    "texto = f\"\"\"{'-'*35}\n",
    "Nombre del planeta: {name},\n",
    "Gravedad en {name}:  {round(gravity*1000,2)}\"\"\"\n"
   ]
  },
  {
   "cell_type": "code",
   "execution_count": 58,
   "metadata": {},
   "outputs": [
    {
     "name": "stdout",
     "output_type": "stream",
     "text": [
      "Datos De La Gravedad En Earth\n",
      " -----------------------------------\n",
      "Nombre del planeta: Moon,\n",
      "Gravedad en Moon:  1.43\n"
     ]
    }
   ],
   "source": [
    "\n",
    "\n",
    "formato = f\"\"\"{titulo.title()}\n",
    " {texto}\"\"\"\n",
    "\n",
    "print(formato)\n"
   ]
  },
  {
   "cell_type": "code",
   "execution_count": 59,
   "metadata": {},
   "outputs": [
    {
     "name": "stdout",
     "output_type": "stream",
     "text": [
      "\n",
      "Datos de Gravedad sobre: Moon\n",
      "-----------------------------------\n",
      "Nombre del planeta: Earth\n",
      "Gravedad en Moon: 1.43 m/s2\n",
      "\n"
     ]
    }
   ],
   "source": [
    "new_template = \"\"\"\n",
    "Datos de Gravedad sobre: {nombre}\n",
    "-----------------------------------\n",
    "Nombre del planeta: {planeta}\n",
    "Gravedad en {nombre}: {gravedad} m/s2\n",
    "\"\"\"\n",
    "print(new_template.format(nombre=name, planeta=planet, gravedad=round(gravity*1000,2)))\n"
   ]
  }
 ],
 "metadata": {
  "interpreter": {
   "hash": "74e8df19fc855fa47d1feac3bcdbe3d2e2bdf358a027a824d460a6254fb178f4"
  },
  "kernelspec": {
   "display_name": "Python 3.9.10 64-bit",
   "language": "python",
   "name": "python3"
  },
  "language_info": {
   "codemirror_mode": {
    "name": "ipython",
    "version": 3
   },
   "file_extension": ".py",
   "mimetype": "text/x-python",
   "name": "python",
   "nbconvert_exporter": "python",
   "pygments_lexer": "ipython3",
   "version": "3.9.10"
  },
  "orig_nbformat": 4
 },
 "nbformat": 4,
 "nbformat_minor": 2
}
