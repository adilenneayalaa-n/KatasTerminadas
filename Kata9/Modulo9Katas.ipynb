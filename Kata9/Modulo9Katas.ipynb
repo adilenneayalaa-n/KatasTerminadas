{
 "cells": [
  {
   "cell_type": "code",
   "execution_count": 4,
   "metadata": {},
   "outputs": [],
   "source": [
    "def getInformeCombustible(tanquePrincipal, tanqueExterno, tanqueDeHidrogeno):\n",
    "    promedioTotal= ((tanquePrincipal+tanqueExterno+tanqueDeHidrogeno)/3)\n",
    "    return f\"\"\"\" Informe del combustible:\n",
    "    Primedio total del combustible: {promedioTotal}%\n",
    "    Total del tanque principal: {tanquePrincipal}%\n",
    "    Total del tanque Externo: {tanqueExterno}%\n",
    "    Total del tanque de Hidrogeno: {tanqueDeHidrogeno}%\"\"\""
   ]
  },
  {
   "cell_type": "code",
   "execution_count": 11,
   "metadata": {},
   "outputs": [
    {
     "name": "stdout",
     "output_type": "stream",
     "text": [
      "Informe del combustible:\n",
      "    Primedio total del combustible: 78.33%\n",
      "    Total del tanque principal: 80%\n",
      "    Total del tanque Externo: 70%\n",
      "    Total del tanque de Hidrogeno: 85%\n"
     ]
    }
   ],
   "source": [
    "def getInformeCombustible(tanquePrincipal, tanqueExterno, tanqueDeHidrogeno):\n",
    "    promedioTotal= ((tanquePrincipal+tanqueExterno+tanqueDeHidrogeno)/3)\n",
    "    return f\"\"\"Informe del combustible:\n",
    "    Primedio total del combustible: {round(promedioTotal,2)}%\n",
    "    Total del tanque principal: {tanquePrincipal}%\n",
    "    Total del tanque Externo: {tanqueExterno}%\n",
    "    Total del tanque de Hidrogeno: {tanqueDeHidrogeno}%\"\"\"\n",
    "\n",
    "\n",
    "print(getInformeCombustible(80, 70, 85))"
   ]
  },
  {
   "cell_type": "code",
   "execution_count": 16,
   "metadata": {},
   "outputs": [
    {
     "data": {
      "text/plain": [
       "33.33"
      ]
     },
     "execution_count": 16,
     "metadata": {},
     "output_type": "execute_result"
    }
   ],
   "source": [
    "\n",
    "def getInformeCombustible(tanquePrincipal, tanqueExterno, tanqueDeHidrogeno):\n",
    "    promedioTotal= ((tanquePrincipal+tanqueExterno+tanqueDeHidrogeno)/3)\n",
    "    return f\"\"\"Informe del combustible:\n",
    "    Primedio total del combustible: {round(promedioTotal,2)}%\n",
    "    Total del tanque principal: {tanquePrincipal}%\n",
    "    Total del tanque Externo: {tanqueExterno}%\n",
    "    Total del tanque de Hidrogeno: {tanqueDeHidrogeno}%\"\"\"\n",
    "\n",
    "def promedio(valores):\n",
    "    total = sum(valores)\n",
    "    numeroDeItems = len(valores)\n",
    "    return round(total/numeroDeItems,2)\n",
    "promedio([50,10,40])"
   ]
  },
  {
   "cell_type": "code",
   "execution_count": 18,
   "metadata": {},
   "outputs": [
    {
     "name": "stdout",
     "output_type": "stream",
     "text": [
      "Informe del combustible:(\n",
      "    Primedio total del combustible: 78.33%\n",
      "    Total del tanque principal: 80%\n",
      "    Total del tanque Externo: 70%\n",
      "    Total del tanque de Hidrogeno: 85%\n"
     ]
    }
   ],
   "source": [
    "\n",
    "def getInformeCombustible(tanquePrincipal, tanqueExterno, tanqueDeHidrogeno):\n",
    "    promedioTotal= ((tanquePrincipal+tanqueExterno+tanqueDeHidrogeno)/3)\n",
    "    return f\"\"\"Informe del combustible:(\n",
    "    Primedio total del combustible: {promedio([tanquePrincipal,tanqueExterno, tanqueDeHidrogeno])}%\n",
    "    Total del tanque principal: {tanquePrincipal}%\n",
    "    Total del tanque Externo: {tanqueExterno}%\n",
    "    Total del tanque de Hidrogeno: {tanqueDeHidrogeno}%\"\"\"\n",
    "\n",
    "def promedio(valores):\n",
    "    total = sum(valores)\n",
    "    numeroDeItems = len(valores)\n",
    "    return round(total/numeroDeItems,2)\n",
    "\n",
    "print(getInformeCombustible(80, 70, 85))"
   ]
  },
  {
   "cell_type": "code",
   "execution_count": 19,
   "metadata": {},
   "outputs": [
    {
     "name": "stdout",
     "output_type": "stream",
     "text": [
      "\n",
      "    Mision hacía Moon\n",
      "    Tiempo total del viaje : 65 minutos\n",
      "    Total de gasolina restante: 500000 galones\n",
      "    \n"
     ]
    }
   ],
   "source": [
    "#Ejercicio 2Trabajo con argumentos de palabra clave\n",
    "def reproteDeMision(tiempoPreLanzamiento, tiempoVuelo, destino, tanqueExterno, tanquePrincipal):\n",
    "    return f\"\"\"\n",
    "    Mision hacía {destino}\n",
    "    Tiempo total del viaje : {tiempoPreLanzamiento + tiempoVuelo} minutos\n",
    "    Total de gasolina restante: {tanqueExterno + tanquePrincipal} galones\n",
    "    \"\"\"\n",
    "\n",
    "print(reproteDeMision(14, 51, \"Moon\", 200000, 300000))"
   ]
  },
  {
   "cell_type": "code",
   "execution_count": 22,
   "metadata": {},
   "outputs": [
    {
     "name": "stdout",
     "output_type": "stream",
     "text": [
      "\n",
      "    Mision hacía Moon\n",
      "    Tiempo total del viaje : 76 minutos\n",
      "    Total de gasolina restante: 500000 galones\n",
      "    \n"
     ]
    }
   ],
   "source": [
    "#*args y **kwargs\n",
    "def reproteDeMision(destino, *minutos, **reservoriosDeCombustible,):\n",
    "    return f\"\"\"\n",
    "    Mision hacía {destino}\n",
    "    Tiempo total del viaje : {sum(minutos)} minutos\n",
    "    Total de gasolina restante: {sum(reservoriosDeCombustible.values())} galones\n",
    "    \"\"\"\n",
    "\n",
    "print(reproteDeMision(\"Moon\", 10, 15, 51, principal=300000, externo=200000))"
   ]
  },
  {
   "cell_type": "code",
   "execution_count": 30,
   "metadata": {},
   "outputs": [
    {
     "name": "stdout",
     "output_type": "stream",
     "text": [
      "\n",
      "    Mision hacía Moon\n",
      "    Tiempo total del viaje : 76 minutos\n",
      "    Total de gasolina restante: 500000 galones\n",
      "    \n",
      "Tanque --> principal   galones restantes: 300000\n",
      "\n",
      "Tanque --> externo   galones restantes: 200000\n",
      "\n"
     ]
    }
   ],
   "source": [
    "#*args y **kwargs\n",
    "def reproteDeMision(destino, *minutos, **reservoriosDeCombustible,):\n",
    "    reportePrincipal = f\"\"\"\n",
    "    Mision hacía {destino}\n",
    "    Tiempo total del viaje : {sum(minutos)} minutos\n",
    "    Total de gasolina restante: {sum(reservoriosDeCombustible.values())} galones\n",
    "    \"\"\"\n",
    "    for nombreTanque, galones in reservoriosDeCombustible.items():\n",
    "        reportePrincipal += f\"\\nTanque --> {nombreTanque}   galones restantes: {galones}\\n\"\n",
    "    return reportePrincipal\n",
    "\n",
    "print(reproteDeMision(\"Moon\", 10, 15, 51, principal=300000, externo=200000))"
   ]
  }
 ],
 "metadata": {
  "interpreter": {
   "hash": "74e8df19fc855fa47d1feac3bcdbe3d2e2bdf358a027a824d460a6254fb178f4"
  },
  "kernelspec": {
   "display_name": "Python 3.9.10 64-bit",
   "language": "python",
   "name": "python3"
  },
  "language_info": {
   "codemirror_mode": {
    "name": "ipython",
    "version": 3
   },
   "file_extension": ".py",
   "mimetype": "text/x-python",
   "name": "python",
   "nbconvert_exporter": "python",
   "pygments_lexer": "ipython3",
   "version": "3.9.10"
  },
  "orig_nbformat": 4
 },
 "nbformat": 4,
 "nbformat_minor": 2
}
