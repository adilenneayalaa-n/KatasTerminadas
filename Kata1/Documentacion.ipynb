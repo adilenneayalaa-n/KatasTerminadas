{
 "cells": [
  {
   "cell_type": "markdown",
   "metadata": {},
   "source": [
    "# Impresion desde Consola"
   ]
  },
  {
   "cell_type": "code",
   "execution_count": 2,
   "metadata": {},
   "outputs": [
    {
     "name": "stdout",
     "output_type": "stream",
     "text": [
      "Hola desde consola\n"
     ]
    }
   ],
   "source": [
    "print('Hola desde consola')"
   ]
  },
  {
   "cell_type": "markdown",
   "metadata": {},
   "source": [
    "## Tu turno, prueba el fragmento de código anterior"
   ]
  },
  {
   "cell_type": "code",
   "execution_count": 10,
   "metadata": {},
   "outputs": [
    {
     "name": "stdout",
     "output_type": "stream",
     "text": [
      "6\n"
     ]
    }
   ],
   "source": [
    "sum = 1 + 2 # 3 usamos gato para comentar\n",
    "product = sum * 2\n",
    "print(product)"
   ]
  },
  {
   "cell_type": "code",
   "execution_count": 13,
   "metadata": {},
   "outputs": [],
   "source": [
    "planetasEnElSistemaSolar = 8 # int, plutón era considerado un planeta pero ya es muy pequeño\n",
    "distanciaAlfaCentauri = 4.367 # float, años luz\n",
    "puedeDespegar = True\n",
    "transbordadorQueAterrizoEnLaLuna = \"Apollo 11\" # string"
   ]
  },
  {
   "cell_type": "markdown",
   "metadata": {},
   "source": [
    "#### La otra forma de saber el valor es usar la función type a la variable y asi saber\n",
    "Por ejemeplo Type(nombreDeLaVariable) al ejecutar la función veremos de que tipo es."
   ]
  },
  {
   "cell_type": "code",
   "execution_count": 1,
   "metadata": {},
   "outputs": [
    {
     "data": {
      "text/plain": [
       "float"
      ]
     },
     "execution_count": 1,
     "metadata": {},
     "output_type": "execute_result"
    }
   ],
   "source": [
    "# Declaramos la variable\n",
    "distanciaAlfaCentauri = 4.367\n",
    "\n",
    "# Descubrimos su tipo de dato\n",
    "type(distanciaAlfaCentauri)"
   ]
  },
  {
   "cell_type": "markdown",
   "metadata": {},
   "source": [
    "### Operadores\n",
    "Por ejemeplo tenemos Operadores con los siguientes signos ( + , - , * , / ) los cuales.\n",
    "funcionan como los de una calculadora.\n",
    "2*2 = 4,  1+1 = 2, 10/5 = 2 y asi inclusive con variables."
   ]
  },
  {
   "cell_type": "code",
   "execution_count": 15,
   "metadata": {},
   "outputs": [
    {
     "data": {
      "text/plain": [
       "2.0"
      ]
     },
     "execution_count": 15,
     "metadata": {},
     "output_type": "execute_result"
    }
   ],
   "source": [
    "left_side = 10\n",
    "right_side = 5\n",
    "left_side / right_side # 2"
   ]
  },
  {
   "cell_type": "markdown",
   "metadata": {},
   "source": [
    "### Fechas\n",
    "Puntos importantes a tomar en cuenta:\n",
    "1. Archivo de copia de seguridad. Usar una fecha como parte del nombre de un archivo de copia de seguridad es una buena manera de indicar cuándo se realizó una copia de seguridad y cuándo debe realizarse nuevamente.\n",
    "2. Condición. Es posible que desee llevar una lógica específica cuando hay una fecha determinada.\n",
    "3. Métrica. Las fechas se utilizan para comprobar el rendimiento del código para, por ejemplo, medir el tiempo que se tarda en ejecutar una función.\n",
    "#### Siempre que deseemos trabajar con date debemos importar date (from datetime import date)"
   ]
  },
  {
   "cell_type": "code",
   "execution_count": 18,
   "metadata": {},
   "outputs": [
    {
     "name": "stdout",
     "output_type": "stream",
     "text": [
      "2022-02-11\n"
     ]
    }
   ],
   "source": [
    "# Importamos la biblioteca \n",
    "from datetime import date\n",
    "#Aqui lo que decimos es de la libreria datetime importa la clase date\n",
    "\n",
    "# Obtenemos la fecha de hoy\n",
    "date.today() #Con eso lo que hacemos es traer la función date\n",
    "\n",
    "#Ahora para mostrarlo en pantalla será con un print\n",
    "print(date.today())\n"
   ]
  },
  {
   "cell_type": "markdown",
   "metadata": {},
   "source": [
    "### Conversión de tipos de datos\n",
    "Quieres usar una fecha con un mensaje. Ese algo suele ser un problema. Si, por ejemplo, desea mostrar la fecha de hoy en la consola, es posible que tenga un problema:\n",
    "* Ya que el dato que va traer como ya vimos va a ser de tipo date y nosotros al querer imprimir queremos mandar un tipo cadena de texto y eso causará conflicto.\n",
    "El error se mostraría como el siguiente:"
   ]
  },
  {
   "cell_type": "code",
   "execution_count": 19,
   "metadata": {},
   "outputs": [
    {
     "ename": "TypeError",
     "evalue": "can only concatenate str (not \"datetime.date\") to str",
     "output_type": "error",
     "traceback": [
      "\u001b[1;31m---------------------------------------------------------------------------\u001b[0m",
      "\u001b[1;31mTypeError\u001b[0m                                 Traceback (most recent call last)",
      "\u001b[1;32mc:\\Users\\Edwin Arroyo\\Documents\\LaunchX-Python\\EntregablesKatas\\Kata1\\Documentacion.ipynb Cell 13'\u001b[0m in \u001b[0;36m<module>\u001b[1;34m\u001b[0m\n\u001b[1;32m----> <a href='vscode-notebook-cell:/c%3A/Users/Edwin%20Arroyo/Documents/LaunchX-Python/EntregablesKatas/Kata1/Documentacion.ipynb#ch0000022?line=0'>1</a>\u001b[0m \u001b[39mprint\u001b[39m(\u001b[39m\"\u001b[39;49m\u001b[39mToday\u001b[39;49m\u001b[39m'\u001b[39;49m\u001b[39ms date is: \u001b[39;49m\u001b[39m\"\u001b[39;49m \u001b[39m+\u001b[39;49m date\u001b[39m.\u001b[39;49mtoday())\n",
      "\u001b[1;31mTypeError\u001b[0m: can only concatenate str (not \"datetime.date\") to str"
     ]
    }
   ],
   "source": [
    "print(\"Today's date is: \" + date.today())"
   ]
  },
  {
   "cell_type": "markdown",
   "metadata": {},
   "source": [
    "1. TypeError: can only concatenate str (not \"datetime.date\") to str"
   ]
  },
  {
   "cell_type": "markdown",
   "metadata": {},
   "source": [
    "* Lo que tendriamos que hacer es agregar str(masNuestraFuncionDate)"
   ]
  },
  {
   "cell_type": "code",
   "execution_count": 20,
   "metadata": {},
   "outputs": [
    {
     "name": "stdout",
     "output_type": "stream",
     "text": [
      "Today's date is: 2022-02-11\n"
     ]
    }
   ],
   "source": [
    "print(\"Today's date is: \" + str(date.today()))"
   ]
  },
  {
   "cell_type": "markdown",
   "metadata": {},
   "source": [
    "##### Entrada del usuario\n",
    "* Para capturar información del usuario, es decir solicitar a teclado utilice la función: input()\n",
    "* Entonces debemos crear la variable e igualarla a la función: \n",
    "* variable = input(\"Dentro nuestro mensaje de solicitud\")"
   ]
  },
  {
   "cell_type": "code",
   "execution_count": 21,
   "metadata": {},
   "outputs": [
    {
     "name": "stdout",
     "output_type": "stream",
     "text": [
      "Welcome to the Python training \n",
      "Regards: Edwin Arroyo\n"
     ]
    }
   ],
   "source": [
    "print(\"Welcome to the Python training \")\n",
    "name = input(\"Please, introduce your name \")\n",
    "print(\"Regards: \" + name)"
   ]
  },
  {
   "cell_type": "markdown",
   "metadata": {},
   "source": [
    "##### Trabajar con numeros\n",
    "\n",
    "* Para este caso es un poco diferente ya que la función input solo sabe que entrara de tipo string, lo que tendriamos que hacer si queremos operar con nuestras entradas y son numeros es:\n",
    "* Cuando queramos  hacer la operacion definir que las entradas son de tipo numerico por ejemplo de tipo int\n",
    "* print(\"Calculadora\")\n",
    "* first_number = input(\"Primer número: \")\n",
    "* second_number = input(\"Segundo número: \")\n",
    "* print(int(first_number) + int(second_number))\n",
    "\n",
    "De lo contrario solo unira el texto y no hará ninguna operación."
   ]
  },
  {
   "cell_type": "code",
   "execution_count": 23,
   "metadata": {},
   "outputs": [
    {
     "name": "stdout",
     "output_type": "stream",
     "text": [
      "Calculadora\n",
      "10\n"
     ]
    }
   ],
   "source": [
    "print(\"Calculadora\")\n",
    "first_number = input(\"Primer número: \")\n",
    "second_number = input(\"Segundo número: \")\n",
    "print(int(first_number) + int(second_number))\n",
    "# print(first_number + second_number) si quieres probar el funcionamiento sin definir las entradas como entero solo descomenta el codigo.\n"
   ]
  },
  {
   "cell_type": "markdown",
   "metadata": {},
   "source": []
  }
 ],
 "metadata": {
  "interpreter": {
   "hash": "74e8df19fc855fa47d1feac3bcdbe3d2e2bdf358a027a824d460a6254fb178f4"
  },
  "kernelspec": {
   "display_name": "Python 3.9.10 64-bit",
   "language": "python",
   "name": "python3"
  },
  "language_info": {
   "codemirror_mode": {
    "name": "ipython",
    "version": 3
   },
   "file_extension": ".py",
   "mimetype": "text/x-python",
   "name": "python",
   "nbconvert_exporter": "python",
   "pygments_lexer": "ipython3",
   "version": "3.9.10"
  },
  "orig_nbformat": 4
 },
 "nbformat": 4,
 "nbformat_minor": 2
}
