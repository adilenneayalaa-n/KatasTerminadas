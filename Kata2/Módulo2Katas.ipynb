{
 "cells": [
  {
   "cell_type": "markdown",
   "metadata": {},
   "source": [
    "# Crear un entorno virtual\n",
    "* Para crear un entorno virtual, llama al módulo. El módulo espera un nombre como argumento venv.\n",
    "\n",
    "Sigue estos pasos:\n",
    "\n",
    "Desde tu terminal ve al directorio donde deseas guardar tu proyecto. (Documentos/TuFolderPreferido)<br> Ejemplo en windows: cd Documents/TuFolderPreferido"
   ]
  },
  {
   "cell_type": "markdown",
   "metadata": {},
   "source": [
    "En consola: `python -m venv env` \n",
    "* Donde:\n",
    "1. python3: La versión de python a utilizar.\n",
    "2. venv: Llamada al módulo venv conocido como virtual environment.\n",
    "3. env: Nombre de nuestro entorno virtual.\n"
   ]
  },
  {
   "cell_type": "markdown",
   "metadata": {},
   "source": [
    "# Instalar un paquete\n",
    "Instalar un paquete mediante pip. El comando pip utiliza el Python Package Index,  o PyPi para abreviar. <br> \n",
    "Para saber dónde obtener los paquetes puedes visitar el sitio web de PyPi para conocer qué paquetes están disponibles.\n",
    "Para instalar un paquete, ejecute , como en este ejemplo `pip install`"
   ]
  },
  {
   "cell_type": "markdown",
   "metadata": {},
   "source": [
    "1. Instalaremos la libreria \"python-dateutil\"\n",
    "       <br> 1.1 `pip install python-dateutil`\n",
    "\n",
    "\n",
    "2. Para ver qué paquetes están ahora instalados en tu entorno virtual, puedes ejecutar \n",
    "<br> 2.2 `pip freeze`"
   ]
  },
  {
   "cell_type": "markdown",
   "metadata": {},
   "source": [
    "# Para Salir del entorno Virtual:\n",
    " * Para asegurarte de que estos paquetes solo existen en tu entorno virtual, intenta salir de ese entorno llamando al comando `deactivate`"
   ]
  },
  {
   "cell_type": "markdown",
   "metadata": {},
   "source": [
    "#### Más formas de instalar un paquete\n",
    "+ También puedes utilizar los siguientes comandos para instalar un paquete:\n",
    "\n",
    "    * Teniendo un conjunto de archivos en tu máquina e instalándolos desde esa fuente:\n",
    "   <br> Bash | Consola\n",
    "    <br>cd (to where the package is on your machine)\n",
    "python -m pip install .\n",
    "\n",
    "#### Instalar desde un repositorio de GitHub que nos proporciona el control de versiones:\n",
    "* git+https://github.com/your-repo.git\n",
    "#### Instalar desde un archivo comprimido:\n",
    "* python3 -m pip install package.tar.gz"
   ]
  },
  {
   "cell_type": "code",
   "execution_count": 7,
   "metadata": {},
   "outputs": [
    {
     "name": "stdout",
     "output_type": "stream",
     "text": [
      "2022-02-11 17:13:36.727884\n",
      "2022-03-18 10:13:36.727884\n"
     ]
    }
   ],
   "source": [
    "#Usar el paquete previamente Instalado\n",
    "from datetime import *  #El asterisco se significa importa todo\n",
    "from dateutil.relativedelta import *\n",
    "now = datetime.now()\n",
    "print(now)\n",
    "\n",
    "now = now + relativedelta(months= 1, weeks= 1, hour=10)\n",
    "print(now)"
   ]
  }
 ],
 "metadata": {
  "interpreter": {
   "hash": "74e8df19fc855fa47d1feac3bcdbe3d2e2bdf358a027a824d460a6254fb178f4"
  },
  "kernelspec": {
   "display_name": "Python 3.9.10 64-bit",
   "language": "python",
   "name": "python3"
  },
  "language_info": {
   "codemirror_mode": {
    "name": "ipython",
    "version": 3
   },
   "file_extension": ".py",
   "mimetype": "text/x-python",
   "name": "python",
   "nbconvert_exporter": "python",
   "pygments_lexer": "ipython3",
   "version": "3.9.10"
  },
  "orig_nbformat": 4
 },
 "nbformat": 4,
 "nbformat_minor": 2
}
