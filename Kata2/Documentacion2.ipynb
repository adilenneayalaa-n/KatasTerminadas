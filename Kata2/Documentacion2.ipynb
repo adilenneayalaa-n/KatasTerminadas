{
 "cells": [
  {
   "cell_type": "markdown",
   "metadata": {},
   "source": [
    "# Ejercicio - Crear un paquete\n",
    "* En este ejercicio, aprenderás a utilizar entornos virtuales como una forma para no afectar a los paquetes instalados globalmente u otros programas que se ejecutan en tu máquina.\n",
    "\n",
    "Para este ejercicio es necesario que lo ejecutes desde la terminal, línea de comandos, cmd, consola, cli, etc. de tu computadora, sé que es desafíante, pero no te preocupes ¡¡Sé que puedes lograrlo!!"
   ]
  },
  {
   "cell_type": "markdown",
   "metadata": {},
   "source": [
    "1. Abrir linea de comandos desde Usuarios/tuUsuario.\n",
    "2. Por ejemplo mi ruta C:\\Users\\Edwin Arroyo\n",
    "3. python -m venv env\n",
    "4. Despues el comando  \"env/Scripts/activate\" \n",
    "### Instalar una biblioteca\n",
    "5. Ejecuta el comando \"pip freeze\" para ver las bibliotecas instaladas en tu entor (No hará nada la linea de comandos)\n",
    "6. Usamos \"pip install\" para instalar una biblioteca en este caso instalaremos \"python-dateutil\"\n",
    "7. Ejecuta el comando \"pip install python-dateutil\"\n",
    "8. Nos arrojará un mensaje de que fue instalada.\n",
    "9. Vuelve a ejecutar \"pip freeze\" para ver cómo ha cambiado tu lista de bibliotecas.\n",
    "10. Listo veras las bibliotecas en este caso algo similar a : \n",
    "    + python-dateutil==2.8.2\n",
    "    + six==1.16.0\n",
    " "
   ]
  },
  {
   "cell_type": "markdown",
   "metadata": {},
   "source": [
    "### Desactivar un entorno Visual\n",
    "* Hasta ahora, has creado un entorno virtual y le has agregado un paquete. ,\n",
    "* Sin embargo es posible que estés trabajando en varios proyectos de Python y necesites cambiar entre ellos. \n",
    "* Para cerrar (desactivar) tu entorno virtual.\n",
    "\n",
    "Ejecuta el comando \"deactivate\""
   ]
  },
  {
   "cell_type": "code",
   "execution_count": null,
   "metadata": {},
   "outputs": [],
   "source": []
  }
 ],
 "metadata": {
  "language_info": {
   "name": "python"
  },
  "orig_nbformat": 4
 },
 "nbformat": 4,
 "nbformat_minor": 2
}
