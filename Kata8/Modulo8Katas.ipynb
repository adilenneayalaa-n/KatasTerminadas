{
 "cells": [
  {
   "cell_type": "code",
   "execution_count": 4,
   "metadata": {},
   "outputs": [],
   "source": [
    "# Crea un diccionario llamado planet con los datos propuestos\n",
    "\n",
    "planetas = {\n",
    "    'name' : 'Marte',\n",
    "    'lunas' : '2'\n",
    "}\n"
   ]
  },
  {
   "cell_type": "code",
   "execution_count": 5,
   "metadata": {},
   "outputs": [
    {
     "name": "stdout",
     "output_type": "stream",
     "text": [
      "Marte\n",
      "Marte\n",
      "2\n",
      "2\n"
     ]
    }
   ],
   "source": [
    "# Crea un diccionario llamado planet con los datos propuestos\n",
    "\n",
    "planetas = {\n",
    "    'name' : 'Marte',\n",
    "    'lunas' : '2'\n",
    "}\n",
    "\n",
    "# 2 Formas de acceder a los datos\n",
    "print(planetas.get('name'))\n",
    "print(planetas['name'])\n",
    "\n",
    "print(planetas.get('lunas'))\n",
    "print(planetas['lunas'])"
   ]
  },
  {
   "cell_type": "code",
   "execution_count": 25,
   "metadata": {},
   "outputs": [
    {
     "ename": "TypeError",
     "evalue": "'int' object is not subscriptable",
     "output_type": "error",
     "traceback": [
      "\u001b[1;31m---------------------------------------------------------------------------\u001b[0m",
      "\u001b[1;31mTypeError\u001b[0m                                 Traceback (most recent call last)",
      "\u001b[1;32mc:\\Users\\Edwin Arroyo\\Documents\\LaunchX-Python\\EntregablesKatas\\Kata8\\Modulo8Katas.ipynb Cell 3'\u001b[0m in \u001b[0;36m<module>\u001b[1;34m\u001b[0m\n\u001b[0;32m      <a href='vscode-notebook-cell:/c%3A/Users/Edwin%20Arroyo/Documents/LaunchX-Python/EntregablesKatas/Kata8/Modulo8Katas.ipynb#ch0000002?line=3'>4</a>\u001b[0m planetas[\u001b[39m'\u001b[39m\u001b[39mpolar\u001b[39m\u001b[39m'\u001b[39m] \u001b[39m=\u001b[39m \u001b[39m6752\u001b[39m\n\u001b[0;32m      <a href='vscode-notebook-cell:/c%3A/Users/Edwin%20Arroyo/Documents/LaunchX-Python/EntregablesKatas/Kata8/Modulo8Katas.ipynb#ch0000002?line=4'>5</a>\u001b[0m planetas\u001b[39m.\u001b[39mupdate({\u001b[39m'\u001b[39m\u001b[39mequatorial\u001b[39m\u001b[39m'\u001b[39m:\u001b[39m6792\u001b[39m})\n\u001b[1;32m----> <a href='vscode-notebook-cell:/c%3A/Users/Edwin%20Arroyo/Documents/LaunchX-Python/EntregablesKatas/Kata8/Modulo8Katas.ipynb#ch0000002?line=6'>7</a>\u001b[0m \u001b[39mprint\u001b[39m(planetas[\u001b[39m'\u001b[39;49m\u001b[39mpolar\u001b[39;49m\u001b[39m'\u001b[39;49m][\u001b[39m'\u001b[39;49m\u001b[39mequatorial\u001b[39;49m\u001b[39m'\u001b[39;49m])\n",
      "\u001b[1;31mTypeError\u001b[0m: 'int' object is not subscriptable"
     ]
    }
   ],
   "source": [
    "planetas['circumferenceKM'] = {'polar': 0,'equatorial': 0}\n",
    "\n",
    "# Dos formas de hacer update\n",
    "planetas['polar'] = 6752\n",
    "planetas.update({'equatorial':6792})\n",
    "\n",
    "print(planetas['polar'],' ',planetas['equatorial'])"
   ]
  },
  {
   "cell_type": "code",
   "execution_count": null,
   "metadata": {},
   "outputs": [],
   "source": [
    "planetas['circumferenceKM'] = {\n",
    "    'polar': 6752,\n",
    "    'equatorial': 6792\n",
    "}\n",
    "# Dos formas de hacer update\n",
    "\n",
    "\n",
    "print(planetas[\"circumferenceKM\"][\"equatorial\"])"
   ]
  }
 ],
 "metadata": {
  "interpreter": {
   "hash": "74e8df19fc855fa47d1feac3bcdbe3d2e2bdf358a027a824d460a6254fb178f4"
  },
  "kernelspec": {
   "display_name": "Python 3.9.10 64-bit",
   "language": "python",
   "name": "python3"
  },
  "language_info": {
   "codemirror_mode": {
    "name": "ipython",
    "version": 3
   },
   "file_extension": ".py",
   "mimetype": "text/x-python",
   "name": "python",
   "nbconvert_exporter": "python",
   "pygments_lexer": "ipython3",
   "version": "3.9.10"
  },
  "orig_nbformat": 4
 },
 "nbformat": 4,
 "nbformat_minor": 2
}
